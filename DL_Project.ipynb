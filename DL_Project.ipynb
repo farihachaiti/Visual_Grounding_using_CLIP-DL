{
  "nbformat": 4,
  "nbformat_minor": 0,
  "metadata": {
    "colab": {
      "provenance": []
    },
    "kernelspec": {
      "name": "python3",
      "display_name": "Python 3"
    },
    "language_info": {
      "name": "python"
    },
    "accelerator": "GPU",
    "gpuClass": "standard"
  },
  "cells": [
    {
      "cell_type": "code",
      "source": [
        "!mkdir dataset\n",
        "!gdown 1xijq32XfEm6FPhUb7RsZYWHc2UuwVkiq\n",
        "!mv refcocog.tar.gz ./dataset/\n",
        "!ls dataset"
      ],
      "metadata": {
        "colab": {
          "base_uri": "https://localhost:8080/"
        },
        "id": "6q8rJi84feX2",
        "outputId": "ae66430c-2333-4bc8-da55-26aa2f5de2af"
      },
      "execution_count": 1,
      "outputs": [
        {
          "output_type": "stream",
          "name": "stdout",
          "text": [
            "Downloading...\n",
            "From: https://drive.google.com/uc?id=1xijq32XfEm6FPhUb7RsZYWHc2UuwVkiq\n",
            "To: /content/refcocog.tar.gz\n",
            "100% 13.5G/13.5G [05:34<00:00, 40.2MB/s]\n",
            "refcocog.tar.gz\n"
          ]
        }
      ]
    },
    {
      "cell_type": "code",
      "source": [
        "!tar -xf dataset/refcocog.tar.gz -C dataset\n",
        "!ls dataset"
      ],
      "metadata": {
        "colab": {
          "base_uri": "https://localhost:8080/"
        },
        "id": "P2vcCtcBfh9k",
        "outputId": "2523e21f-7151-41f9-d3d2-25cdcf296189"
      },
      "execution_count": 2,
      "outputs": [
        {
          "output_type": "stream",
          "name": "stdout",
          "text": [
            "refcocog  refcocog.tar.gz\n"
          ]
        }
      ]
    },
    {
      "cell_type": "code",
      "source": [
        "import torch\n",
        "import torchvision\n",
        "import torch.nn.functional as F\n",
        "import torchvision.transforms as T\n",
        "from torch.utils.data import Dataset\n",
        "from torch.utils.tensorboard import SummaryWriter\n",
        "import os"
      ],
      "metadata": {
        "id": "LdnLcbFyfkvW"
      },
      "execution_count": 4,
      "outputs": []
    },
    {
      "cell_type": "code",
      "source": [
        "class RefCOCOgDataset(Dataset):\n",
        "  \"\"\"A simple dataset representing the numbers from 0 to size-1\"\"\"\n",
        "\n",
        "  def __init__(self, size, root, transform=None, split=True):\n",
        "    super(RefCOCOgDataset, self).__init__()\n",
        "    self.root = root = os.path.expanduser(root)\n",
        "    self.size = size\n",
        "    self.transform = transform\n",
        "    self.split = split\n",
        " \n",
        "\n",
        "  def __getitem__(self, idx):\n",
        "    \"\"\"Get an item given its id.\n",
        "\n",
        "    Args:\n",
        "      idx: the integral index of the element to retrieve\n",
        "\n",
        "    Returns:\n",
        "      element at index idx\n",
        "    \"\"\"\n",
        "    result = torch.tensor([idx], dtype=torch.float32)\n",
        "\n",
        "\n",
        "    # if a transformation is available, we apply it\n",
        "    if self.transform is not None:\n",
        "      result = self.transform(result)\n",
        "    \n",
        "    # create train and test splits (80/20)\n",
        "    num_samples = len(result)\n",
        "    training_samples = int(num_samples * 0.8 + 1)\n",
        "    test_samples = num_samples - training_samples\n",
        "    if self.split:\n",
        "      training_data, test_data = torch.utils.data.random_split(result, [training_samples, test_samples])\n",
        "\n",
        "    return training_data, test_data\n",
        "\n",
        "  def __len__(self):\n",
        "    \"\"\"Get the length of the dataset.\n",
        "\n",
        "    Returns:\n",
        "      number of elements that compose the dataset\n",
        "    \"\"\"\n",
        "    return self.size"
      ],
      "metadata": {
        "id": "2b4mMLT8vbdE"
      },
      "execution_count": 5,
      "outputs": []
    },
    {
      "cell_type": "code",
      "source": [
        "def data_augmentation():\n",
        "\n",
        "  transformations_sequence = [\n",
        "      # random changes in pixel colors\n",
        "      T.ColorJitter(brightness=0.1, contrast=0.1, saturation=0.1),\n",
        "      # resize each PIL image to 256 x 256\n",
        "      T.Resize((256, 256)),                   \n",
        "      T.RandomCrop((224, 224)),\n",
        "      # the former transformations accept and return PIL Image objects, now convert to Tensor\n",
        "      T.ToTensor(),\n",
        "      # apply normalization\n",
        "      T.Normalize(mean=[0.4913, 0.4821, 0.4465], std=[0.2470, 0.2434, 0.2615])\n",
        "  ]\n",
        "  # build a chain of transformations\n",
        "\n",
        "\n",
        "  composed_transformation = T.Compose(transformations_sequence)\n",
        "\n",
        "  return composed_transformation"
      ],
      "metadata": {
        "id": "omN3AWqeiGjw"
      },
      "execution_count": 6,
      "outputs": []
    },
    {
      "cell_type": "code",
      "source": [
        "def get_data(root, file_size, batch_size, test_batch_size=256):\n",
        "  \n",
        "  # prepare data transformations and then combine them sequentially\n",
        "\n",
        "  training_data, test_data = RefCOCOgDataset(file_size, root, data_augmentation, True)\n",
        "\n",
        "  # initialize dataloaders\n",
        "  train_loader = torch.utils.data.DataLoader(training_data, batch_size, shuffle=True, drop_last=True)\n",
        "  test_loader = torch.utils.data.DataLoader(test_data, test_batch_size, shuffle=False)\n",
        "\n",
        "  return train_loader, test_loader"
      ],
      "metadata": {
        "id": "MGHhKD_Tgpjh"
      },
      "execution_count": 7,
      "outputs": []
    },
    {
      "cell_type": "code",
      "source": [
        "def main(batch_size=128, \n",
        "         device='cuda:0',\n",
        "         learning_rate=0.001, \n",
        "         weight_decay=0.000001, \n",
        "         momentum=0.9, \n",
        "         epochs=50, \n",
        "         num_classes=65, \n",
        "         visualization_name='alexnet_sgd', \n",
        "         root=None):\n",
        "  \n",
        "  writer = SummaryWriter(log_dir=\"runs/exp1\")\n",
        "\n",
        "    # instantiates dataloaders\n",
        "  train_loader, test_loader = get_data(root, batch_size=batch_size, test_batch_size=None)\n",
        "  \n",
        "#main(14495514624, \"/content/dataset/refcocog\")"
      ],
      "metadata": {
        "id": "RmcsfGIf_1fd"
      },
      "execution_count": null,
      "outputs": []
    }
  ]
}